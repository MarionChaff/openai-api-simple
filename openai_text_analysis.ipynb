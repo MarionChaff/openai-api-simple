{
 "cells": [
  {
   "cell_type": "markdown",
   "id": "fc59ec62-02c6-4658-9800-424e12c3aae8",
   "metadata": {},
   "source": [
    "<u>Imports</u>"
   ]
  },
  {
   "cell_type": "code",
   "execution_count": 1,
   "id": "b82749b7-59c7-43c5-ba1c-eb1d30c6e8ac",
   "metadata": {},
   "outputs": [],
   "source": [
    "#!pip install openai==1.36.0"
   ]
  },
  {
   "cell_type": "code",
   "execution_count": 2,
   "id": "1886c41d-ee3c-4a0e-8d64-875cbce05223",
   "metadata": {},
   "outputs": [],
   "source": [
    "import openai\n",
    "import re\n",
    "from collections import Counter"
   ]
  },
  {
   "cell_type": "markdown",
   "id": "f13c458f-00fc-4f17-8e0b-7930ded61375",
   "metadata": {},
   "source": [
    "<u>Parameters</u>"
   ]
  },
  {
   "cell_type": "code",
   "execution_count": 3,
   "id": "0f9ab98d-47ed-4102-93e0-9a07eff1d1ff",
   "metadata": {},
   "outputs": [],
   "source": [
    "# Initialize model parameters \n",
    "\n",
    "openai.api_key = open(\"key.txt\",\"r\").read().strip(\"\\n\")\n",
    "model = \"gpt-4-turbo\"\n",
    "temperature = 0\n",
    "max_tokens = 4095"
   ]
  },
  {
   "cell_type": "code",
   "execution_count": 4,
   "id": "d4bfb63a-8559-422c-9070-0b88213db121",
   "metadata": {},
   "outputs": [],
   "source": [
    "# Initalize system prompt\n",
    "\n",
    "system_msg = {\"role\": \"system\", \"content\": \"\"\"\n",
    "Tu es un journaliste. \n",
    "Ton objectif est de comprendre un texte, le synthétiser et générer des questions.\n",
    "Les textes transmis seront délimités par ces caractères : <<< (début), >>> (fin).\n",
    "Utilise un langage clair et élégant sans commentaire ou mise en forme.\n",
    "\"\"\"}"
   ]
  },
  {
   "cell_type": "code",
   "execution_count": 5,
   "id": "2175ae24-f8e5-4f6a-a5a0-942aebac0415",
   "metadata": {},
   "outputs": [],
   "source": [
    "# Import test text\n",
    "\n",
    "text = open(\"camus-tipasa.txt\",\"r\").read()"
   ]
  },
  {
   "cell_type": "markdown",
   "id": "5c3a3eff-2da6-4d60-bdc7-1143abdf21c8",
   "metadata": {},
   "source": [
    "<u>Mission 1: extract key topics</u>"
   ]
  },
  {
   "cell_type": "code",
   "execution_count": 6,
   "id": "76c4e5fa-6847-4b00-aa7e-7c191f4388d9",
   "metadata": {},
   "outputs": [],
   "source": [
    "nb_themes = 5"
   ]
  },
  {
   "cell_type": "code",
   "execution_count": 7,
   "id": "f230c6c0-a8a7-4892-b8a1-d282442cfdd0",
   "metadata": {},
   "outputs": [],
   "source": [
    "user_msg_themes = {\"role\": \"user\", \"content\":f\"\"\"\n",
    "Tu reçois le texte suivant : <<< {text} >>>\n",
    "Propose une liste de {nb_themes} thèmes basés uniquement sur ce thème. Chaque thème doit couvrir un aspect distinct du texte. \n",
    "Chaque thème sera séparé par deux retours à la ligne (\\n\\n). \n",
    "\"\"\"}"
   ]
  },
  {
   "cell_type": "code",
   "execution_count": 8,
   "id": "7e0367d3-c8d2-40b0-b943-c8bbd1498e49",
   "metadata": {},
   "outputs": [],
   "source": [
    "completion1 = openai.chat.completions.create(\n",
    "    model=model,\n",
    "    messages=[system_msg,user_msg_themes],\n",
    "    temperature=temperature,\n",
    "    max_tokens=max_tokens)"
   ]
  },
  {
   "cell_type": "code",
   "execution_count": 9,
   "id": "fc81e06f-2b57-466a-a94d-1170332edc45",
   "metadata": {},
   "outputs": [
    {
     "name": "stdout",
     "output_type": "stream",
     "text": [
      "1. La fusion de l'homme avec la nature : Le texte explore profondément la connexion entre l'homme et la nature, illustrant comment le narrateur s'intègre et s'harmonise avec le paysage, les plantes, et les éléments naturels de Tipasa.\n",
      "\n",
      "2. La spiritualité et la présence divine dans le quotidien : Le récit souligne la présence des dieux dans les aspects quotidiens de la vie et du paysage, suggérant une dimension sacrée et spirituelle imbriquée dans la nature et les ruines de Tipasa.\n",
      "\n",
      "3. La réminiscence et la transformation des ruines : Les ruines, centrales dans le texte, symbolisent à la fois le passé historique et culturel et leur renaissance au sein de la nature, marquant un cycle de destruction et de renouveau.\n",
      "\n",
      "4. La sensorialité et l'expérience immersive : Le texte est riche en descriptions sensorielles qui invitent le lecteur à expérimenter Tipasa à travers les odeurs, les couleurs, les textures et les sons, accentuant l'expérience immersive du narrateur.\n",
      "\n",
      "5. La contemplation et la quête de soi : Le narrateur reflète sur son propre processus de découverte de soi et d'intégration avec l'environnement, utilisant le cadre naturel et historique de Tipasa comme un miroir pour sa propre introspection et réalisation personnelle.\n"
     ]
    }
   ],
   "source": [
    "answer1 = completion1.choices[0].message.content\n",
    "print(answer1)\n",
    "topics = answer1.split('\\n\\n')"
   ]
  },
  {
   "cell_type": "markdown",
   "id": "029cf31e-1038-4916-b23a-5ccf27ab7568",
   "metadata": {},
   "source": [
    "<u>Mission 2: interview guide on each theme</u>"
   ]
  },
  {
   "cell_type": "code",
   "execution_count": 10,
   "id": "dda1b367-8f89-406f-9545-0275c9882fca",
   "metadata": {},
   "outputs": [
    {
     "name": "stdout",
     "output_type": "stream",
     "text": [
      "1. La fusion de l'homme avec la nature :\n",
      "- Quels éléments naturels le narrateur décrit-il en détail dans le texte ?\n",
      "- Comment le narrateur décrit-il son interaction physique avec les plantes de Tipasa ?\n",
      "- De quelle manière les sensations physiques du narrateur sont-elles utilisées pour illustrer sa connexion avec la nature ?\n",
      "- Quels sont les effets de la nature sur l'état émotionnel du narrateur ?\n",
      "- Comment le narrateur utilise-t-il les éléments naturels pour décrire ses sentiments et expériences ?\n",
      "\n",
      "2. La spiritualité et la présence divine dans le quotidien :\n",
      "- Quels dieux sont mentionnés ou suggérés dans le texte ?\n",
      "- Comment la présence des dieux est-elle intégrée dans les descriptions du paysage de Tipasa ?\n",
      "- De quelle manière le narrateur perçoit-il la spiritualité dans son environnement ?\n",
      "- Quels aspects de la vie quotidienne à Tipasa sont décrits comme étant influencés par le divin ?\n",
      "- Comment la nature et les ruines contribuent-elles à l'ambiance spirituelle du lieu ?\n",
      "\n",
      "3. La réminiscence et la transformation des ruines :\n",
      "- Quelles sont les différentes ruines mentionnées dans le texte ?\n",
      "- Comment le narrateur décrit-il le processus de transformation des ruines par la nature ?\n",
      "- Quels sentiments le narrateur exprime-t-il envers les ruines et leur état de décomposition ?\n",
      "- Comment les ruines sont-elles utilisées pour symboliser le cycle de la vie et de la mort ?\n",
      "- Quelle est la signification historique et culturelle des ruines pour le narrateur et pour le lieu ?\n",
      "\n",
      "4. La sensorialité et l'expérience immersive :\n",
      "- Quelles sont les différentes odeurs décrites par le narrateur lors de sa visite à Tipasa ?\n",
      "- Comment les couleurs sont-elles utilisées pour renforcer l'expérience sensorielle du narrateur ?\n",
      "- Quels sons spécifiques sont mentionnés et comment contribuent-ils à l'atmosphère du lieu ?\n",
      "- De quelle manière les descriptions tactiles enrichissent-elles la narration ?\n",
      "- Comment l'expérience gustative est-elle intégrée dans le récit du narrateur ?\n",
      "\n",
      "5. La contemplation et la quête de soi :\n",
      "- Quels moments de contemplation le narrateur partage-t-il dans le texte ?\n",
      "- Comment le narrateur décrit-il son processus de découverte de soi à Tipasa ?\n",
      "- Quelles sont les récompenses personnelles que le narrateur trouve dans son exploration des collines et des ruines ?\n",
      "- Comment le paysage de Tipasa influence-t-il la quête de soi du narrateur ?\n",
      "- Quelles leçons le narrateur tire-t-il de son immersion dans la nature et l'histoire de Tipasa ?\n"
     ]
    }
   ],
   "source": [
    "nb_questions = 5\n",
    "    \n",
    "user_msg_questions = {\"role\": \"user\", \"content\": f\"\"\"\n",
    "Propose une liste de {nb_questions} questions sur chaque thème mentionné.\n",
    "Ces questions doivent être factuelles et descriptives. \n",
    "\"\"\"}\n",
    "\n",
    "completion2 = openai.chat.completions.create(\n",
    "    model=model,\n",
    "    messages=[system_msg,user_msg_themes,{\"role\":\"assistant\",\"content\":answer1},user_msg_questions],\n",
    "    temperature=temperature,\n",
    "    max_tokens=max_tokens)\n",
    "\n",
    "answer2 = completion2.choices[0].message.content\n",
    "print(answer2)"
   ]
  },
  {
   "cell_type": "markdown",
   "id": "8742b80b-599f-41ea-a230-5992327f2432",
   "metadata": {},
   "source": [
    "<u>Mission 3: questionnaire and voting</u>"
   ]
  },
  {
   "cell_type": "code",
   "execution_count": 11,
   "id": "853fe80c-0666-43ed-94f7-f07970eda4dc",
   "metadata": {},
   "outputs": [],
   "source": [
    "# Set parameters\n",
    "\n",
    "nb_repetitions = 5\n",
    "temperature = 0.5"
   ]
  },
  {
   "cell_type": "code",
   "execution_count": 12,
   "id": "b4a18a2e-56b0-4818-8b2d-e3b153842d90",
   "metadata": {},
   "outputs": [],
   "source": [
    "# Set prompt, asking openai to boxed answers (to enable easy extraction)\n",
    "\n",
    "instructions = f\"Tu reçois ce texte : <<< {text} >>>\" + \"Qui est l'auteur ? Retourne uniquement son nom de famille sous ce format : \\\\boxed{}.\"\n",
    "user_msg_questionnaire = {\"role\" : \"user\", \"content\" : instructions}"
   ]
  },
  {
   "cell_type": "code",
   "execution_count": null,
   "id": "861fe0a6-e9b7-4d91-ad7f-5a67f123e189",
   "metadata": {},
   "outputs": [],
   "source": []
  },
  {
   "cell_type": "code",
   "execution_count": 13,
   "id": "dd1800c3-f705-4599-8d98-2ffc1a64ca91",
   "metadata": {},
   "outputs": [],
   "source": [
    "# Extract the answer from openai raw output\n",
    "\n",
    "def extract_answer(text):\n",
    "    try:\n",
    "        matches = re.findall(r'\\\\boxed{(.*?)}', text)\n",
    "        if matches:\n",
    "            return matches[-1]  \n",
    "        else:\n",
    "            return -1\n",
    "    except Exception as e:\n",
    "        return -1"
   ]
  },
  {
   "cell_type": "code",
   "execution_count": 14,
   "id": "2f823205-424c-462f-a29c-c4d98d010278",
   "metadata": {},
   "outputs": [],
   "source": [
    "# To maximize accuracy, let's ask the question many times and vote for the best answer\n",
    "\n",
    "answer_list = []\n",
    "\n",
    "for k in range(nb_repetitions):\n",
    "    \n",
    "    completion3 = openai.chat.completions.create(\n",
    "        model=model,\n",
    "        messages=[user_msg_questionnaire],\n",
    "        temperature=temperature,\n",
    "        max_tokens=max_tokens)\n",
    "\n",
    "    raw_answer = completion3.choices[0].message.content\n",
    "\n",
    "    parsed_answer = extract_answer(raw_answer)\n",
    "    \n",
    "    answer_list.append(parsed_answer)"
   ]
  },
  {
   "cell_type": "code",
   "execution_count": 15,
   "id": "498a2aed-b62f-4892-9121-6b4e179a44f6",
   "metadata": {},
   "outputs": [],
   "source": [
    "# Hard vote for the best answer\n",
    "\n",
    "def vote_best_answer(answer_list):\n",
    "    \n",
    "    counts = Counter(answer_list) \n",
    "    most_common = counts.most_common(2) \n",
    "    if len(most_common) == 1 or most_common[0][1] > most_common[1][1]:\n",
    "        return most_common[0][0] \n",
    "    else:\n",
    "        print('unable to extract a proper answer')\n",
    "        return -1"
   ]
  },
  {
   "cell_type": "code",
   "execution_count": 16,
   "id": "9d47bb7f-b7d5-41d0-b4f9-425d54b3ae9b",
   "metadata": {},
   "outputs": [
    {
     "name": "stdout",
     "output_type": "stream",
     "text": [
      "Camus\n"
     ]
    }
   ],
   "source": [
    "answer = vote_best_answer(answer_list)\n",
    "print(answer)"
   ]
  }
 ],
 "metadata": {
  "kernelspec": {
   "display_name": "Python 3 (ipykernel)",
   "language": "python",
   "name": "python3"
  },
  "language_info": {
   "codemirror_mode": {
    "name": "ipython",
    "version": 3
   },
   "file_extension": ".py",
   "mimetype": "text/x-python",
   "name": "python",
   "nbconvert_exporter": "python",
   "pygments_lexer": "ipython3",
   "version": "3.10.6"
  }
 },
 "nbformat": 4,
 "nbformat_minor": 5
}
